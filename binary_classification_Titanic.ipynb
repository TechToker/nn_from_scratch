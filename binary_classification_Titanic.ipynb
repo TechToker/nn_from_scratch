{
 "cells": [
  {
   "cell_type": "code",
   "execution_count": 1,
   "metadata": {},
   "outputs": [
    {
     "data": {
      "text/plain": [
       "891"
      ]
     },
     "execution_count": 1,
     "metadata": {},
     "output_type": "execute_result"
    }
   ],
   "source": [
    "import numpy as np\n",
    "import pandas as pd\n",
    "\n",
    "df_train = pd.read_csv('./titanic/train.csv')\n",
    "len(df_train)"
   ]
  },
  {
   "cell_type": "code",
   "execution_count": 2,
   "metadata": {},
   "outputs": [
    {
     "name": "stdout",
     "output_type": "stream",
     "text": [
      "<class 'pandas.core.frame.DataFrame'>\n",
      "RangeIndex: 891 entries, 0 to 890\n",
      "Data columns (total 12 columns):\n",
      " #   Column       Non-Null Count  Dtype  \n",
      "---  ------       --------------  -----  \n",
      " 0   PassengerId  891 non-null    int64  \n",
      " 1   Survived     891 non-null    int64  \n",
      " 2   Pclass       891 non-null    int64  \n",
      " 3   Name         891 non-null    object \n",
      " 4   Sex          891 non-null    object \n",
      " 5   Age          714 non-null    float64\n",
      " 6   SibSp        891 non-null    int64  \n",
      " 7   Parch        891 non-null    int64  \n",
      " 8   Ticket       891 non-null    object \n",
      " 9   Fare         891 non-null    float64\n",
      " 10  Cabin        204 non-null    object \n",
      " 11  Embarked     889 non-null    object \n",
      "dtypes: float64(2), int64(5), object(5)\n",
      "memory usage: 83.7+ KB\n"
     ]
    }
   ],
   "source": [
    "df_train.info()"
   ]
  },
  {
   "cell_type": "code",
   "execution_count": 3,
   "metadata": {},
   "outputs": [
    {
     "data": {
      "text/html": [
       "<div>\n",
       "<style scoped>\n",
       "    .dataframe tbody tr th:only-of-type {\n",
       "        vertical-align: middle;\n",
       "    }\n",
       "\n",
       "    .dataframe tbody tr th {\n",
       "        vertical-align: top;\n",
       "    }\n",
       "\n",
       "    .dataframe thead th {\n",
       "        text-align: right;\n",
       "    }\n",
       "</style>\n",
       "<table border=\"1\" class=\"dataframe\">\n",
       "  <thead>\n",
       "    <tr style=\"text-align: right;\">\n",
       "      <th></th>\n",
       "      <th>Survived</th>\n",
       "      <th>Pclass</th>\n",
       "      <th>Sex</th>\n",
       "      <th>Age</th>\n",
       "      <th>SibSp</th>\n",
       "      <th>Parch</th>\n",
       "      <th>Fare</th>\n",
       "      <th>Embarked</th>\n",
       "    </tr>\n",
       "  </thead>\n",
       "  <tbody>\n",
       "    <tr>\n",
       "      <th>0</th>\n",
       "      <td>0</td>\n",
       "      <td>3</td>\n",
       "      <td>male</td>\n",
       "      <td>22.0</td>\n",
       "      <td>1</td>\n",
       "      <td>0</td>\n",
       "      <td>7.2500</td>\n",
       "      <td>S</td>\n",
       "    </tr>\n",
       "    <tr>\n",
       "      <th>1</th>\n",
       "      <td>1</td>\n",
       "      <td>1</td>\n",
       "      <td>female</td>\n",
       "      <td>38.0</td>\n",
       "      <td>1</td>\n",
       "      <td>0</td>\n",
       "      <td>71.2833</td>\n",
       "      <td>C</td>\n",
       "    </tr>\n",
       "    <tr>\n",
       "      <th>2</th>\n",
       "      <td>1</td>\n",
       "      <td>3</td>\n",
       "      <td>female</td>\n",
       "      <td>26.0</td>\n",
       "      <td>0</td>\n",
       "      <td>0</td>\n",
       "      <td>7.9250</td>\n",
       "      <td>S</td>\n",
       "    </tr>\n",
       "    <tr>\n",
       "      <th>3</th>\n",
       "      <td>1</td>\n",
       "      <td>1</td>\n",
       "      <td>female</td>\n",
       "      <td>35.0</td>\n",
       "      <td>1</td>\n",
       "      <td>0</td>\n",
       "      <td>53.1000</td>\n",
       "      <td>S</td>\n",
       "    </tr>\n",
       "    <tr>\n",
       "      <th>4</th>\n",
       "      <td>0</td>\n",
       "      <td>3</td>\n",
       "      <td>male</td>\n",
       "      <td>35.0</td>\n",
       "      <td>0</td>\n",
       "      <td>0</td>\n",
       "      <td>8.0500</td>\n",
       "      <td>S</td>\n",
       "    </tr>\n",
       "  </tbody>\n",
       "</table>\n",
       "</div>"
      ],
      "text/plain": [
       "   Survived  Pclass     Sex   Age  SibSp  Parch     Fare Embarked\n",
       "0         0       3    male  22.0      1      0   7.2500        S\n",
       "1         1       1  female  38.0      1      0  71.2833        C\n",
       "2         1       3  female  26.0      0      0   7.9250        S\n",
       "3         1       1  female  35.0      1      0  53.1000        S\n",
       "4         0       3    male  35.0      0      0   8.0500        S"
      ]
     },
     "execution_count": 3,
     "metadata": {},
     "output_type": "execute_result"
    }
   ],
   "source": [
    "df_train = df_train.drop(['Name', 'Ticket', 'PassengerId', 'Cabin'], axis=1)\n",
    "df_train.head()"
   ]
  },
  {
   "cell_type": "code",
   "execution_count": 4,
   "metadata": {},
   "outputs": [
    {
     "data": {
      "text/html": [
       "<div>\n",
       "<style scoped>\n",
       "    .dataframe tbody tr th:only-of-type {\n",
       "        vertical-align: middle;\n",
       "    }\n",
       "\n",
       "    .dataframe tbody tr th {\n",
       "        vertical-align: top;\n",
       "    }\n",
       "\n",
       "    .dataframe thead th {\n",
       "        text-align: right;\n",
       "    }\n",
       "</style>\n",
       "<table border=\"1\" class=\"dataframe\">\n",
       "  <thead>\n",
       "    <tr style=\"text-align: right;\">\n",
       "      <th></th>\n",
       "      <th>Survived</th>\n",
       "      <th>Pclass</th>\n",
       "      <th>Age</th>\n",
       "      <th>SibSp</th>\n",
       "      <th>Parch</th>\n",
       "      <th>Fare</th>\n",
       "    </tr>\n",
       "  </thead>\n",
       "  <tbody>\n",
       "    <tr>\n",
       "      <th>count</th>\n",
       "      <td>891.000000</td>\n",
       "      <td>891.000000</td>\n",
       "      <td>714.000000</td>\n",
       "      <td>891.000000</td>\n",
       "      <td>891.000000</td>\n",
       "      <td>891.000000</td>\n",
       "    </tr>\n",
       "    <tr>\n",
       "      <th>mean</th>\n",
       "      <td>0.383838</td>\n",
       "      <td>2.308642</td>\n",
       "      <td>29.699118</td>\n",
       "      <td>0.523008</td>\n",
       "      <td>0.381594</td>\n",
       "      <td>32.204208</td>\n",
       "    </tr>\n",
       "    <tr>\n",
       "      <th>std</th>\n",
       "      <td>0.486592</td>\n",
       "      <td>0.836071</td>\n",
       "      <td>14.526497</td>\n",
       "      <td>1.102743</td>\n",
       "      <td>0.806057</td>\n",
       "      <td>49.693429</td>\n",
       "    </tr>\n",
       "    <tr>\n",
       "      <th>min</th>\n",
       "      <td>0.000000</td>\n",
       "      <td>1.000000</td>\n",
       "      <td>0.420000</td>\n",
       "      <td>0.000000</td>\n",
       "      <td>0.000000</td>\n",
       "      <td>0.000000</td>\n",
       "    </tr>\n",
       "    <tr>\n",
       "      <th>25%</th>\n",
       "      <td>0.000000</td>\n",
       "      <td>2.000000</td>\n",
       "      <td>20.125000</td>\n",
       "      <td>0.000000</td>\n",
       "      <td>0.000000</td>\n",
       "      <td>7.910400</td>\n",
       "    </tr>\n",
       "    <tr>\n",
       "      <th>50%</th>\n",
       "      <td>0.000000</td>\n",
       "      <td>3.000000</td>\n",
       "      <td>28.000000</td>\n",
       "      <td>0.000000</td>\n",
       "      <td>0.000000</td>\n",
       "      <td>14.454200</td>\n",
       "    </tr>\n",
       "    <tr>\n",
       "      <th>75%</th>\n",
       "      <td>1.000000</td>\n",
       "      <td>3.000000</td>\n",
       "      <td>38.000000</td>\n",
       "      <td>1.000000</td>\n",
       "      <td>0.000000</td>\n",
       "      <td>31.000000</td>\n",
       "    </tr>\n",
       "    <tr>\n",
       "      <th>max</th>\n",
       "      <td>1.000000</td>\n",
       "      <td>3.000000</td>\n",
       "      <td>80.000000</td>\n",
       "      <td>8.000000</td>\n",
       "      <td>6.000000</td>\n",
       "      <td>512.329200</td>\n",
       "    </tr>\n",
       "  </tbody>\n",
       "</table>\n",
       "</div>"
      ],
      "text/plain": [
       "         Survived      Pclass         Age       SibSp       Parch        Fare\n",
       "count  891.000000  891.000000  714.000000  891.000000  891.000000  891.000000\n",
       "mean     0.383838    2.308642   29.699118    0.523008    0.381594   32.204208\n",
       "std      0.486592    0.836071   14.526497    1.102743    0.806057   49.693429\n",
       "min      0.000000    1.000000    0.420000    0.000000    0.000000    0.000000\n",
       "25%      0.000000    2.000000   20.125000    0.000000    0.000000    7.910400\n",
       "50%      0.000000    3.000000   28.000000    0.000000    0.000000   14.454200\n",
       "75%      1.000000    3.000000   38.000000    1.000000    0.000000   31.000000\n",
       "max      1.000000    3.000000   80.000000    8.000000    6.000000  512.329200"
      ]
     },
     "execution_count": 4,
     "metadata": {},
     "output_type": "execute_result"
    }
   ],
   "source": [
    "df_train.describe()"
   ]
  },
  {
   "cell_type": "code",
   "execution_count": 5,
   "metadata": {},
   "outputs": [
    {
     "data": {
      "text/plain": [
       "Survived    False\n",
       "Pclass      False\n",
       "Sex         False\n",
       "Age          True\n",
       "SibSp       False\n",
       "Parch       False\n",
       "Fare        False\n",
       "Embarked     True\n",
       "dtype: bool"
      ]
     },
     "execution_count": 5,
     "metadata": {},
     "output_type": "execute_result"
    }
   ],
   "source": [
    "df_train.isnull().any()"
   ]
  },
  {
   "cell_type": "code",
   "execution_count": 6,
   "metadata": {},
   "outputs": [],
   "source": [
    "train_age_mean = float(round(df_train['Age'].mean()))\n",
    "train_embarked_mean = 'S'\n",
    "train_fare_mean = df_train['Fare'].mean()"
   ]
  },
  {
   "cell_type": "code",
   "execution_count": 7,
   "metadata": {},
   "outputs": [],
   "source": [
    "df_train['Age'].fillna(train_age_mean, inplace=True)\n",
    "df_train['Embarked'].fillna(train_embarked_mean, inplace=True) # as most frequent 'Embarked' "
   ]
  },
  {
   "cell_type": "code",
   "execution_count": 8,
   "metadata": {},
   "outputs": [],
   "source": [
    "df_train = pd.get_dummies(df_train, columns=['Sex', 'Embarked'])"
   ]
  },
  {
   "cell_type": "code",
   "execution_count": 9,
   "metadata": {},
   "outputs": [],
   "source": [
    "features2standartization = ['Age', 'Fare']\n",
    "\n",
    "tmp = df_train[features2standartization]\n",
    "tmp_training_mean = tmp.mean()\n",
    "tmp_training_std = tmp.std()"
   ]
  },
  {
   "cell_type": "code",
   "execution_count": 10,
   "metadata": {},
   "outputs": [
    {
     "data": {
      "text/html": [
       "<div>\n",
       "<style scoped>\n",
       "    .dataframe tbody tr th:only-of-type {\n",
       "        vertical-align: middle;\n",
       "    }\n",
       "\n",
       "    .dataframe tbody tr th {\n",
       "        vertical-align: top;\n",
       "    }\n",
       "\n",
       "    .dataframe thead th {\n",
       "        text-align: right;\n",
       "    }\n",
       "</style>\n",
       "<table border=\"1\" class=\"dataframe\">\n",
       "  <thead>\n",
       "    <tr style=\"text-align: right;\">\n",
       "      <th></th>\n",
       "      <th>Survived</th>\n",
       "      <th>Pclass</th>\n",
       "      <th>Age</th>\n",
       "      <th>SibSp</th>\n",
       "      <th>Parch</th>\n",
       "      <th>Fare</th>\n",
       "      <th>Sex_female</th>\n",
       "      <th>Sex_male</th>\n",
       "      <th>Embarked_C</th>\n",
       "      <th>Embarked_Q</th>\n",
       "      <th>Embarked_S</th>\n",
       "    </tr>\n",
       "  </thead>\n",
       "  <tbody>\n",
       "    <tr>\n",
       "      <th>0</th>\n",
       "      <td>0</td>\n",
       "      <td>3</td>\n",
       "      <td>-0.596720</td>\n",
       "      <td>1</td>\n",
       "      <td>0</td>\n",
       "      <td>-0.502163</td>\n",
       "      <td>0</td>\n",
       "      <td>1</td>\n",
       "      <td>0</td>\n",
       "      <td>0</td>\n",
       "      <td>1</td>\n",
       "    </tr>\n",
       "    <tr>\n",
       "      <th>1</th>\n",
       "      <td>1</td>\n",
       "      <td>1</td>\n",
       "      <td>0.633806</td>\n",
       "      <td>1</td>\n",
       "      <td>0</td>\n",
       "      <td>0.786404</td>\n",
       "      <td>1</td>\n",
       "      <td>0</td>\n",
       "      <td>1</td>\n",
       "      <td>0</td>\n",
       "      <td>0</td>\n",
       "    </tr>\n",
       "    <tr>\n",
       "      <th>2</th>\n",
       "      <td>1</td>\n",
       "      <td>3</td>\n",
       "      <td>-0.289088</td>\n",
       "      <td>0</td>\n",
       "      <td>0</td>\n",
       "      <td>-0.488580</td>\n",
       "      <td>1</td>\n",
       "      <td>0</td>\n",
       "      <td>0</td>\n",
       "      <td>0</td>\n",
       "      <td>1</td>\n",
       "    </tr>\n",
       "    <tr>\n",
       "      <th>3</th>\n",
       "      <td>1</td>\n",
       "      <td>1</td>\n",
       "      <td>0.403083</td>\n",
       "      <td>1</td>\n",
       "      <td>0</td>\n",
       "      <td>0.420494</td>\n",
       "      <td>1</td>\n",
       "      <td>0</td>\n",
       "      <td>0</td>\n",
       "      <td>0</td>\n",
       "      <td>1</td>\n",
       "    </tr>\n",
       "    <tr>\n",
       "      <th>4</th>\n",
       "      <td>0</td>\n",
       "      <td>3</td>\n",
       "      <td>0.403083</td>\n",
       "      <td>0</td>\n",
       "      <td>0</td>\n",
       "      <td>-0.486064</td>\n",
       "      <td>0</td>\n",
       "      <td>1</td>\n",
       "      <td>0</td>\n",
       "      <td>0</td>\n",
       "      <td>1</td>\n",
       "    </tr>\n",
       "  </tbody>\n",
       "</table>\n",
       "</div>"
      ],
      "text/plain": [
       "   Survived  Pclass       Age  SibSp  Parch      Fare  Sex_female  Sex_male  \\\n",
       "0         0       3 -0.596720      1      0 -0.502163           0         1   \n",
       "1         1       1  0.633806      1      0  0.786404           1         0   \n",
       "2         1       3 -0.289088      0      0 -0.488580           1         0   \n",
       "3         1       1  0.403083      1      0  0.420494           1         0   \n",
       "4         0       3  0.403083      0      0 -0.486064           0         1   \n",
       "\n",
       "   Embarked_C  Embarked_Q  Embarked_S  \n",
       "0           0           0           1  \n",
       "1           1           0           0  \n",
       "2           0           0           1  \n",
       "3           0           0           1  \n",
       "4           0           0           1  "
      ]
     },
     "execution_count": 10,
     "metadata": {},
     "output_type": "execute_result"
    }
   ],
   "source": [
    "df_train[features2standartization] = (df_train[features2standartization] - tmp_training_mean) / tmp_training_std\n",
    "df_train.head()"
   ]
  },
  {
   "cell_type": "code",
   "execution_count": 11,
   "metadata": {},
   "outputs": [],
   "source": [
    "df_target = df_train['Survived']\n",
    "df_features = df_train.drop('Survived', axis=1)"
   ]
  },
  {
   "cell_type": "code",
   "execution_count": 12,
   "metadata": {},
   "outputs": [
    {
     "data": {
      "text/plain": [
       "(712, 179)"
      ]
     },
     "execution_count": 12,
     "metadata": {},
     "output_type": "execute_result"
    }
   ],
   "source": [
    "from sklearn.model_selection import train_test_split\n",
    "\n",
    "X_train, X_val, Y_train, Y_val = train_test_split(df_features, df_target, test_size=0.2)\n",
    "len(X_train), len(X_val)"
   ]
  },
  {
   "cell_type": "code",
   "execution_count": 13,
   "metadata": {},
   "outputs": [],
   "source": [
    "import torch\n",
    "\n",
    "def get_acc(pred, gt):\n",
    "    \n",
    "    if isinstance(pred, torch.Tensor) or isinstance(gt, torch.Tensor):\n",
    "        pred = pred.detach().numpy()\n",
    "        gt = gt.detach().numpy()\n",
    "    \n",
    "    pred_class = (pred > 0.5).astype(int)   \n",
    "\n",
    "    correct = (gt == pred_class).sum().item()\n",
    "    return correct / len(gt)"
   ]
  },
  {
   "cell_type": "code",
   "execution_count": 14,
   "metadata": {},
   "outputs": [
    {
     "name": "stdout",
     "output_type": "stream",
     "text": [
      "0:\tlearn: 0.4791916\ttotal: 165ms\tremaining: 2m 44s\n",
      "100:\tlearn: 0.3407141\ttotal: 244ms\tremaining: 2.18s\n",
      "200:\tlearn: 0.3220679\ttotal: 330ms\tremaining: 1.31s\n",
      "300:\tlearn: 0.3085355\ttotal: 414ms\tremaining: 960ms\n",
      "400:\tlearn: 0.2962379\ttotal: 496ms\tremaining: 741ms\n",
      "500:\tlearn: 0.2811074\ttotal: 580ms\tremaining: 578ms\n",
      "600:\tlearn: 0.2694696\ttotal: 666ms\tremaining: 442ms\n",
      "700:\tlearn: 0.2589183\ttotal: 752ms\tremaining: 321ms\n",
      "800:\tlearn: 0.2499099\ttotal: 837ms\tremaining: 208ms\n",
      "900:\tlearn: 0.2416684\ttotal: 923ms\tremaining: 101ms\n",
      "999:\tlearn: 0.2348613\ttotal: 1.01s\tremaining: 0us\n"
     ]
    },
    {
     "data": {
      "text/plain": [
       "0.8659217877094972"
      ]
     },
     "execution_count": 14,
     "metadata": {},
     "output_type": "execute_result"
    }
   ],
   "source": [
    "from catboost import CatBoostRegressor\n",
    "\n",
    "catboost = CatBoostRegressor(\n",
    "    iterations=1000,\n",
    "    learning_rate=0.03,\n",
    "    depth=6,\n",
    "    l2_leaf_reg=3,\n",
    "    subsample=0.8,\n",
    "    loss_function='RMSE',\n",
    "    eval_metric='RMSE',\n",
    "    random_seed=42,\n",
    "    early_stopping_rounds=50,\n",
    "    verbose=100\n",
    ")\n",
    "\n",
    "catboost.fit(X_train, Y_train)\n",
    "\n",
    "Y_prediction = catboost.predict(X_val)\n",
    "get_acc(Y_prediction, Y_val)"
   ]
  },
  {
   "cell_type": "code",
   "execution_count": 15,
   "metadata": {},
   "outputs": [
    {
     "data": {
      "text/plain": [
       "0.8156424581005587"
      ]
     },
     "execution_count": 15,
     "metadata": {},
     "output_type": "execute_result"
    }
   ],
   "source": [
    "from sklearn.ensemble import RandomForestClassifier\n",
    "\n",
    "random_forest = RandomForestClassifier(n_estimators=100)\n",
    "random_forest.fit(X_train, Y_train)\n",
    "\n",
    "Y_prediction = random_forest.predict(X_val)\n",
    "get_acc(Y_prediction, Y_val)"
   ]
  },
  {
   "cell_type": "markdown",
   "metadata": {},
   "source": [
    "### MLP"
   ]
  },
  {
   "cell_type": "code",
   "execution_count": 16,
   "metadata": {},
   "outputs": [
    {
     "data": {
      "text/plain": [
       "(torch.Size([712, 10]),\n",
       " torch.Size([712]),\n",
       " torch.Size([179, 10]),\n",
       " torch.Size([179]))"
      ]
     },
     "execution_count": 16,
     "metadata": {},
     "output_type": "execute_result"
    }
   ],
   "source": [
    "import torch\n",
    "import torch.nn as nn\n",
    "import torch.nn.functional as F\n",
    "\n",
    "X_tr_tensor = torch.Tensor(X_train.values)\n",
    "Y_tr_tensor = torch.Tensor(Y_train.values)\n",
    "\n",
    "X_vl_tensor = torch.Tensor(X_val.values)\n",
    "Y_vl_tensor = torch.Tensor(Y_val.values)\n",
    "\n",
    "X_tr_tensor.shape, Y_tr_tensor.shape, X_vl_tensor.shape, Y_vl_tensor.shape"
   ]
  },
  {
   "cell_type": "code",
   "execution_count": 17,
   "metadata": {},
   "outputs": [],
   "source": [
    "from torch.utils.data import TensorDataset, DataLoader\n",
    "\n",
    "batch_size = 32\n",
    "\n",
    "train_dataset = TensorDataset(X_tr_tensor, Y_tr_tensor)\n",
    "val_dataset = TensorDataset(X_vl_tensor, Y_vl_tensor)\n",
    "\n",
    "train_dataloader = DataLoader(train_dataset, batch_size=32)\n",
    "val_dataloader = DataLoader(val_dataset, batch_size=32)"
   ]
  },
  {
   "cell_type": "code",
   "execution_count": 18,
   "metadata": {},
   "outputs": [
    {
     "data": {
      "text/plain": [
       "BCModel(\n",
       "  (fc1): Linear(in_features=10, out_features=32, bias=True)\n",
       "  (fc2): Linear(in_features=32, out_features=1, bias=True)\n",
       ")"
      ]
     },
     "execution_count": 18,
     "metadata": {},
     "output_type": "execute_result"
    }
   ],
   "source": [
    "class BCModel(nn.Module):\n",
    "    def __init__(self, input_dim):\n",
    "        super(BCModel, self).__init__()\n",
    "        \n",
    "        mid_shape = 32\n",
    "        self.fc1 = nn.Linear(input_dim, mid_shape)\n",
    "        self.fc2 = nn.Linear(mid_shape, 1)\n",
    "        \n",
    "    def forward(self, x):\n",
    "        out = self.fc1(x)\n",
    "        out = torch.tanh(out)\n",
    "        out = self.fc2(out).squeeze(1)\n",
    "        return out\n",
    "    \n",
    "model = BCModel(10)\n",
    "model"
   ]
  },
  {
   "cell_type": "code",
   "execution_count": 19,
   "metadata": {},
   "outputs": [
    {
     "data": {
      "text/plain": [
       "385"
      ]
     },
     "execution_count": 19,
     "metadata": {},
     "output_type": "execute_result"
    }
   ],
   "source": [
    "sum([p.nelement() for p in model.parameters()])"
   ]
  },
  {
   "cell_type": "code",
   "execution_count": 20,
   "metadata": {},
   "outputs": [],
   "source": [
    "import torch.optim as optim\n",
    "\n",
    "_lr = 3e-2\n",
    "\n",
    "criterion = nn.BCEWithLogitsLoss()\n",
    "optimizer = optim.SGD(params=model.parameters(), lr=_lr)"
   ]
  },
  {
   "cell_type": "code",
   "execution_count": 21,
   "metadata": {},
   "outputs": [
    {
     "name": "stdout",
     "output_type": "stream",
     "text": [
      "Input shape: torch.Size([32, 10]); label shape: torch.Size([32]); out shape: torch.Size([32]) \n",
      "\n",
      "Loss: 0.6502, acc: 0.7188\n"
     ]
    }
   ],
   "source": [
    "test_x = X_tr_tensor[:batch_size]\n",
    "test_y = Y_tr_tensor[:batch_size]\n",
    "\n",
    "out = model(test_x)\n",
    "\n",
    "print(f'Input shape: {test_x.shape}; label shape: {test_y.shape}; out shape: {out.shape} \\n')\n",
    "\n",
    "loss = criterion(out, test_y)\n",
    "acc = get_acc(out, test_y)\n",
    "\n",
    "print(f'Loss: {loss.item():.4f}, acc: {acc:.4f}')"
   ]
  },
  {
   "cell_type": "code",
   "execution_count": 22,
   "metadata": {},
   "outputs": [],
   "source": [
    "current_eph = 0\n",
    "t_loss_eph = []\n",
    "t_acc_eph = []\n",
    "\n",
    "v_loss_eph = []\n",
    "v_acc_eph = []"
   ]
  },
  {
   "cell_type": "code",
   "execution_count": 23,
   "metadata": {},
   "outputs": [
    {
     "name": "stdout",
     "output_type": "stream",
     "text": [
      " ----- Epoch: 0 -----\n",
      "Train loss: 0.6436; acc: 0.6386\n",
      "Val loss: 0.6448; acc: 0.5806\n",
      " ----- Epoch: 1 -----\n",
      "Train loss: 0.6101; acc: 0.6522\n",
      "Val loss: 0.6229; acc: 0.5962\n",
      " ----- Epoch: 2 -----\n",
      "Train loss: 0.5898; acc: 0.6780\n",
      "Val loss: 0.6016; acc: 0.6467\n",
      " ----- Epoch: 3 -----\n",
      "Train loss: 0.5722; acc: 0.6943\n",
      "Val loss: 0.5815; acc: 0.6571\n",
      " ----- Epoch: 4 -----\n",
      "Train loss: 0.5563; acc: 0.7106\n",
      "Val loss: 0.5630; acc: 0.6850\n",
      " ----- Epoch: 5 -----\n",
      "Train loss: 0.5419; acc: 0.7215\n",
      "Val loss: 0.5464; acc: 0.6902\n",
      " ----- Epoch: 6 -----\n",
      "Train loss: 0.5290; acc: 0.7283\n",
      "Val loss: 0.5317; acc: 0.7338\n",
      " ----- Epoch: 7 -----\n",
      "Train loss: 0.5176; acc: 0.7541\n",
      "Val loss: 0.5189; acc: 0.7634\n",
      " ----- Epoch: 8 -----\n",
      "Train loss: 0.5077; acc: 0.7772\n",
      "Val loss: 0.5080; acc: 0.7791\n",
      " ----- Epoch: 9 -----\n",
      "Train loss: 0.4992; acc: 0.7758\n",
      "Val loss: 0.4987; acc: 0.7791\n",
      " ----- Epoch: 10 -----\n",
      "Train loss: 0.4920; acc: 0.7840\n",
      "Val loss: 0.4909; acc: 0.7895\n",
      " ----- Epoch: 11 -----\n",
      "Train loss: 0.4858; acc: 0.7853\n",
      "Val loss: 0.4845; acc: 0.7843\n",
      " ----- Epoch: 12 -----\n",
      "Train loss: 0.4807; acc: 0.7867\n",
      "Val loss: 0.4791; acc: 0.7791\n",
      " ----- Epoch: 13 -----\n",
      "Train loss: 0.4764; acc: 0.7894\n",
      "Val loss: 0.4747; acc: 0.7930\n",
      " ----- Epoch: 14 -----\n",
      "Train loss: 0.4727; acc: 0.7935\n",
      "Val loss: 0.4710; acc: 0.7930\n",
      " ----- Epoch: 15 -----\n",
      "Train loss: 0.4696; acc: 0.7948\n",
      "Val loss: 0.4680; acc: 0.7930\n",
      " ----- Epoch: 16 -----\n",
      "Train loss: 0.4669; acc: 0.7962\n",
      "Val loss: 0.4654; acc: 0.7930\n",
      " ----- Epoch: 17 -----\n",
      "Train loss: 0.4646; acc: 0.7989\n",
      "Val loss: 0.4633; acc: 0.7930\n",
      " ----- Epoch: 18 -----\n",
      "Train loss: 0.4626; acc: 0.8003\n",
      "Val loss: 0.4614; acc: 0.8018\n",
      " ----- Epoch: 19 -----\n",
      "Train loss: 0.4608; acc: 0.8003\n",
      "Val loss: 0.4598; acc: 0.8070\n",
      " ----- Epoch: 20 -----\n",
      "Train loss: 0.4592; acc: 0.8016\n",
      "Val loss: 0.4585; acc: 0.8070\n",
      " ----- Epoch: 21 -----\n",
      "Train loss: 0.4578; acc: 0.8016\n",
      "Val loss: 0.4573; acc: 0.8018\n",
      " ----- Epoch: 22 -----\n",
      "Train loss: 0.4565; acc: 0.8016\n",
      "Val loss: 0.4562; acc: 0.8018\n",
      " ----- Epoch: 23 -----\n",
      "Train loss: 0.4554; acc: 0.8030\n",
      "Val loss: 0.4552; acc: 0.8018\n",
      " ----- Epoch: 24 -----\n",
      "Train loss: 0.4543; acc: 0.8030\n",
      "Val loss: 0.4543; acc: 0.8018\n",
      " ----- Epoch: 25 -----\n",
      "Train loss: 0.4533; acc: 0.8030\n",
      "Val loss: 0.4535; acc: 0.8018\n",
      " ----- Epoch: 26 -----\n",
      "Train loss: 0.4524; acc: 0.8043\n",
      "Val loss: 0.4528; acc: 0.8018\n",
      " ----- Epoch: 27 -----\n",
      "Train loss: 0.4515; acc: 0.8043\n",
      "Val loss: 0.4521; acc: 0.8018\n",
      " ----- Epoch: 28 -----\n",
      "Train loss: 0.4507; acc: 0.8043\n",
      "Val loss: 0.4514; acc: 0.8018\n",
      " ----- Epoch: 29 -----\n",
      "Train loss: 0.4499; acc: 0.8057\n",
      "Val loss: 0.4508; acc: 0.7966\n"
     ]
    }
   ],
   "source": [
    "for eph in range(current_eph, current_eph + 30):\n",
    "    print(f\" {'-' * 5} Epoch: {eph} {'-' * 5}\")\n",
    "    current_eph += 1\n",
    "    t_losses = []\n",
    "    t_acc = []\n",
    "\n",
    "    for batch, label in train_dataloader:\n",
    "        out = model(batch)\n",
    "        prob = torch.sigmoid(out)\n",
    "        \n",
    "        loss = criterion(out, label)\n",
    "        t_losses.append(loss.item())\n",
    "        t_acc.append(get_acc(prob, label))\n",
    "        \n",
    "        optimizer.zero_grad()\n",
    "        loss.backward()\n",
    "        optimizer.step()\n",
    "\n",
    "    loss_eph = sum(t_losses) / len(t_losses)\n",
    "    acc_eph = sum(t_acc) / len(t_acc)\n",
    "    \n",
    "    t_loss_eph.append(loss_eph)\n",
    "    t_acc_eph.append(acc_eph)\n",
    "    \n",
    "    print(f'Train loss: {loss_eph:.4f}; acc: {acc_eph:.4f}')\n",
    "    \n",
    "    v_losses = []\n",
    "    v_acc = []\n",
    "    for batch, label in val_dataloader:\n",
    "        out = model(batch)\n",
    "        prob = torch.sigmoid(out)\n",
    "        \n",
    "        loss = criterion(out, label)\n",
    "        v_losses.append(loss.item())\n",
    "        v_acc.append(get_acc(prob, label))\n",
    "        \n",
    "    loss_eph = sum(v_losses) / len(v_losses)\n",
    "    acc_eph = sum(v_acc) / len(v_acc)\n",
    "    \n",
    "    v_loss_eph.append(loss_eph)\n",
    "    v_acc_eph.append(acc_eph)    \n",
    "    \n",
    "    print(f'Val loss: {loss_eph:.4f}; acc: {acc_eph:.4f}')"
   ]
  },
  {
   "cell_type": "code",
   "execution_count": 24,
   "metadata": {},
   "outputs": [
    {
     "data": {
      "image/png": "[encoded data removed]",
      "text/plain": [
       "<Figure size 640x480 with 1 Axes>"
      ]
     },
     "metadata": {},
     "output_type": "display_data"
    }
   ],
   "source": [
    "import matplotlib.pyplot as plt\n",
    "\n",
    "plt.plot(t_loss_eph, label='train')\n",
    "plt.plot(v_loss_eph, label='val')\n",
    "plt.legend()\n",
    "plt.show()"
   ]
  },
  {
   "cell_type": "code",
   "execution_count": 25,
   "metadata": {},
   "outputs": [
    {
     "data": {
      "image/png": "[encoded data removed]",
      "text/plain": [
       "<Figure size 640x480 with 1 Axes>"
      ]
     },
     "metadata": {},
     "output_type": "display_data"
    }
   ],
   "source": [
    "plt.plot(t_acc_eph, label='train')\n",
    "plt.plot(v_acc_eph, label='val')\n",
    "plt.legend()\n",
    "plt.show()"
   ]
  },
  {
   "cell_type": "markdown",
   "metadata": {},
   "source": [
    "### MLP from scratch"
   ]
  },
  {
   "cell_type": "code",
   "execution_count": 32,
   "metadata": {},
   "outputs": [],
   "source": [
    "input_dim = X_train.shape[1]\n",
    "mid_dim = 32\n",
    "\n",
    "# W1 = np.random.uniform(0, 1, (input_dim, mid_dim)).astype(np.float32) * 0.01\n",
    "# b1 = np.random.uniform(0, 1, (mid_dim)).astype(np.float32) \n",
    "\n",
    "# W2 = np.random.uniform(0, 1, (mid_dim, 1)).astype(np.float32) * 0.01\n",
    "# b2 = np.random.uniform(0, 1, (1)).astype(np.float32)\n",
    "\n",
    "# parameters = [W1, b1, W2, b2]\n",
    "# sum([p.size for p in parameters])\n",
    "\n",
    "# W1.shape, b1.shape, W2.shape, b2.shape"
   ]
  },
  {
   "cell_type": "code",
   "execution_count": 33,
   "metadata": {},
   "outputs": [
    {
     "data": {
      "text/plain": [
       "(torch.Size([10, 32]), torch.Size([32]), torch.Size([32, 1]), torch.Size([1]))"
      ]
     },
     "execution_count": 33,
     "metadata": {},
     "output_type": "execute_result"
    }
   ],
   "source": [
    "W1 = torch.rand((input_dim, mid_dim)) * 0.01\n",
    "b1 = torch.rand((mid_dim)) \n",
    "\n",
    "W2 = torch.rand((mid_dim, 1)) * 0.01\n",
    "b2 = torch.rand((1))\n",
    "\n",
    "W1.shape, b1.shape, W2.shape, b2.shape"
   ]
  },
  {
   "cell_type": "code",
   "execution_count": 34,
   "metadata": {},
   "outputs": [
    {
     "data": {
      "text/plain": [
       "385"
      ]
     },
     "execution_count": 34,
     "metadata": {},
     "output_type": "execute_result"
    }
   ],
   "source": [
    "parameters = [W1, b1, W2, b2]\n",
    "for p in parameters:\n",
    "    p.requires_grad = True\n",
    "\n",
    "sum([p.nelement() for p in parameters])"
   ]
  },
  {
   "cell_type": "code",
   "execution_count": 35,
   "metadata": {},
   "outputs": [],
   "source": [
    "# utility function we will use later when comparing manual gradients to PyTorch gradients\n",
    "def cmp(s, dt, t):\n",
    "    ex = torch.all(dt == t.grad).item()\n",
    "    app = torch.allclose(dt, t.grad)\n",
    "    maxdiff = (dt - t.grad).abs().max().item()\n",
    "    print(f'{s:15s} | exact: {str(ex):5s} | approximate: {str(app):5s} | maxdiff: {maxdiff}')"
   ]
  },
  {
   "cell_type": "code",
   "execution_count": 36,
   "metadata": {},
   "outputs": [],
   "source": [
    "_batch_size = 32\n",
    "_lr = 5e-2\n",
    "\n",
    "current_eph = 0\n",
    "t_loss_eph = []\n",
    "t_acc_eph = []\n",
    "\n",
    "v_loss_eph = []\n",
    "v_acc_eph = []"
   ]
  },
  {
   "cell_type": "code",
   "execution_count": 38,
   "metadata": {},
   "outputs": [
    {
     "name": "stdout",
     "output_type": "stream",
     "text": [
      " ----- Epoch: 1 -----\n",
      "Train loss: 0.6904; acc: 0.5380\n",
      "Val loss: 0.6552; acc: 0.6318\n",
      " ----- Epoch: 2 -----\n",
      "Train loss: 0.6557; acc: 0.6318\n",
      "Val loss: 0.6525; acc: 0.6318\n",
      " ----- Epoch: 3 -----\n",
      "Train loss: 0.6529; acc: 0.6318\n",
      "Val loss: 0.6496; acc: 0.6318\n",
      " ----- Epoch: 4 -----\n",
      "Train loss: 0.6498; acc: 0.6318\n",
      "Val loss: 0.6464; acc: 0.6318\n",
      " ----- Epoch: 5 -----\n",
      "Train loss: 0.6465; acc: 0.6318\n",
      "Val loss: 0.6429; acc: 0.6318\n",
      " ----- Epoch: 6 -----\n",
      "Train loss: 0.6427; acc: 0.6318\n",
      "Val loss: 0.6389; acc: 0.6318\n",
      " ----- Epoch: 7 -----\n",
      "Train loss: 0.6384; acc: 0.6332\n",
      "Val loss: 0.6342; acc: 0.6332\n",
      " ----- Epoch: 8 -----\n",
      "Train loss: 0.6332; acc: 0.6332\n",
      "Val loss: 0.6286; acc: 0.6345\n",
      " ----- Epoch: 9 -----\n",
      "Train loss: 0.6271; acc: 0.6345\n",
      "Val loss: 0.6219; acc: 0.6345\n",
      " ----- Epoch: 10 -----\n",
      "Train loss: 0.6198; acc: 0.6386\n",
      "Val loss: 0.6139; acc: 0.6413\n",
      " ----- Epoch: 11 -----\n",
      "Train loss: 0.6111; acc: 0.6413\n",
      "Val loss: 0.6045; acc: 0.6454\n",
      " ----- Epoch: 12 -----\n",
      "Train loss: 0.6009; acc: 0.6481\n",
      "Val loss: 0.5935; acc: 0.6495\n",
      " ----- Epoch: 13 -----\n",
      "Train loss: 0.5892; acc: 0.6549\n",
      "Val loss: 0.5812; acc: 0.6644\n",
      " ----- Epoch: 14 -----\n",
      "Train loss: 0.5764; acc: 0.6793\n",
      "Val loss: 0.5678; acc: 0.6780\n",
      " ----- Epoch: 15 -----\n",
      "Train loss: 0.5626; acc: 0.6997\n",
      "Val loss: 0.5538; acc: 0.7052\n",
      " ----- Epoch: 16 -----\n",
      "Train loss: 0.5485; acc: 0.7133\n",
      "Val loss: 0.5398; acc: 0.7188\n",
      " ----- Epoch: 17 -----\n",
      "Train loss: 0.5348; acc: 0.7351\n",
      "Val loss: 0.5265; acc: 0.7337\n",
      " ----- Epoch: 18 -----\n",
      "Train loss: 0.5220; acc: 0.7554\n",
      "Val loss: 0.5143; acc: 0.7486\n",
      " ----- Epoch: 19 -----\n",
      "Train loss: 0.5106; acc: 0.7622\n",
      "Val loss: 0.5036; acc: 0.7595\n",
      " ----- Epoch: 20 -----\n",
      "Train loss: 0.5006; acc: 0.7731\n",
      "Val loss: 0.4945; acc: 0.7704\n",
      " ----- Epoch: 21 -----\n",
      "Train loss: 0.4923; acc: 0.7880\n",
      "Val loss: 0.4869; acc: 0.7826\n",
      " ----- Epoch: 22 -----\n",
      "Train loss: 0.4854; acc: 0.7880\n",
      "Val loss: 0.4806; acc: 0.7853\n",
      " ----- Epoch: 23 -----\n",
      "Train loss: 0.4798; acc: 0.7853\n",
      "Val loss: 0.4755; acc: 0.8016\n",
      " ----- Epoch: 24 -----\n",
      "Train loss: 0.4752; acc: 0.7921\n",
      "Val loss: 0.4714; acc: 0.8043\n",
      " ----- Epoch: 25 -----\n",
      "Train loss: 0.4715; acc: 0.7935\n",
      "Val loss: 0.4680; acc: 0.8030\n",
      " ----- Epoch: 26 -----\n",
      "Train loss: 0.4684; acc: 0.7948\n",
      "Val loss: 0.4652; acc: 0.8030\n",
      " ----- Epoch: 27 -----\n",
      "Train loss: 0.4658; acc: 0.7976\n",
      "Val loss: 0.4628; acc: 0.8030\n",
      " ----- Epoch: 28 -----\n",
      "Train loss: 0.4637; acc: 0.8003\n",
      "Val loss: 0.4608; acc: 0.8084\n",
      " ----- Epoch: 29 -----\n",
      "Train loss: 0.4618; acc: 0.7989\n",
      "Val loss: 0.4590; acc: 0.8071\n",
      " ----- Epoch: 30 -----\n",
      "Train loss: 0.4602; acc: 0.8016\n",
      "Val loss: 0.4575; acc: 0.8071\n"
     ]
    }
   ],
   "source": [
    "import math\n",
    "\n",
    "for eph in range(current_eph, current_eph + 30):\n",
    "    print(f\" {'-' * 5} Epoch: {eph} {'-' * 5}\")\n",
    "    current_eph += 1\n",
    "    t_losses = []\n",
    "    t_acc = []\n",
    "\n",
    "    for i in range(int(len(X_train) / _batch_size) + 1):\n",
    "        batch_idx = np.arange(_batch_size * i, min(_batch_size * (i + 1), len(X_train)))\n",
    "        \n",
    "        X = X_tr_tensor[batch_idx]\n",
    "        Y = Y_tr_tensor[batch_idx].unsqueeze(1)\n",
    "        #Y = np.expand_dims(Y_train.values[batch_idx], 1) # convert shape (32) to (32, 1)\n",
    "        \n",
    "        Z1 = X @ W1 + b1\n",
    "        A1 = (math.e**Z1 - math.e**(-Z1)) / (math.e**Z1 + math.e**(-Z1)) # tanh\n",
    "        Z2 = A1 @ W2 + b2\n",
    "\n",
    "        probs = 1 / (1 + math.e**(-Z2))\n",
    "        \n",
    "        loss = - (Y * probs.log() + (1 - Y) * (1 - probs).log()).sum() / len(Y)\n",
    "        t_losses.append(loss)\n",
    "        t_acc.append(get_acc(probs, Y))\n",
    "        \n",
    "        dZ2 = (probs - Y) / X.size(0)\n",
    "        dW2 = A1.T @ dZ2\n",
    "        db2 = dZ2.sum(axis=0)\n",
    "\n",
    "        dA1 = dZ2 @ W2.T\n",
    "        dZ1 = dA1 * (1 - A1**2)\n",
    "\n",
    "        dW1 = X.T @ dZ1\n",
    "        db1 = dZ1.sum(axis=0)\n",
    "        \n",
    "        grads = [dW1, db1, dW2, db2]\n",
    "\n",
    "        # for p in parameters:\n",
    "        #     p.grad = None\n",
    "        # loss.backward()\n",
    "        # cmp('w2', dW2, W2)\n",
    "        # cmp('b2', db2, b2)\n",
    "        # cmp('w1', dW1, W1)\n",
    "        # cmp('b1', db1, b1)\n",
    "        \n",
    "        for param, grad in zip(parameters, grads):\n",
    "            param.data += -_lr * grad\n",
    "\n",
    "    loss_eph = sum(t_losses) / len(t_losses)\n",
    "    acc_eph = sum(t_acc) / len(t_acc)\n",
    "    \n",
    "    t_loss_eph.append(loss_eph)\n",
    "    t_acc_eph.append(acc_eph)\n",
    "    \n",
    "    print(f'Train loss: {loss_eph:.4f}; acc: {acc_eph:.4f}')\n",
    "    \n",
    "    v_losses = []\n",
    "    v_acc = []\n",
    "    for i in range(int(len(X_train) / _batch_size) + 1):\n",
    "        batch_idx = np.arange(_batch_size * i, min(_batch_size * (i + 1), len(X_train)))\n",
    "        \n",
    "        X = X_tr_tensor[batch_idx]\n",
    "        Y = Y_tr_tensor[batch_idx].unsqueeze(1)\n",
    "        \n",
    "        Z1 = X @ W1 + b1\n",
    "        A1 = (math.e**Z1 - math.e**(-Z1)) / (math.e**Z1 + math.e**(-Z1)) # tanh\n",
    "        Z2 = A1 @ W2 + b2\n",
    "\n",
    "        probs = 1 / (1 + math.e**(-Z2))\n",
    "        \n",
    "        loss = - (Y * probs.log() + (1 - Y) * (1 - probs).log()).sum() / len(Y)\n",
    "        \n",
    "        v_losses.append(loss)\n",
    "        v_acc.append(get_acc(probs, Y))\n",
    "        \n",
    "    loss_eph = sum(v_losses) / len(v_losses)\n",
    "    acc_eph = sum(v_acc) / len(v_acc)\n",
    "    \n",
    "    v_loss_eph.append(loss_eph)\n",
    "    v_acc_eph.append(acc_eph)    \n",
    "    \n",
    "    print(f'Val loss: {loss_eph:.4f}; acc: {acc_eph:.4f}')"
   ]
  },
  {
   "cell_type": "markdown",
   "metadata": {},
   "source": [
    "### Inference"
   ]
  },
  {
   "cell_type": "code",
   "execution_count": 39,
   "metadata": {},
   "outputs": [
    {
     "data": {
      "text/html": [
       "<div>\n",
       "<style scoped>\n",
       "    .dataframe tbody tr th:only-of-type {\n",
       "        vertical-align: middle;\n",
       "    }\n",
       "\n",
       "    .dataframe tbody tr th {\n",
       "        vertical-align: top;\n",
       "    }\n",
       "\n",
       "    .dataframe thead th {\n",
       "        text-align: right;\n",
       "    }\n",
       "</style>\n",
       "<table border=\"1\" class=\"dataframe\">\n",
       "  <thead>\n",
       "    <tr style=\"text-align: right;\">\n",
       "      <th></th>\n",
       "      <th>Pclass</th>\n",
       "      <th>Sex</th>\n",
       "      <th>Age</th>\n",
       "      <th>SibSp</th>\n",
       "      <th>Parch</th>\n",
       "      <th>Fare</th>\n",
       "      <th>Embarked</th>\n",
       "      <th>Survived</th>\n",
       "    </tr>\n",
       "  </thead>\n",
       "  <tbody>\n",
       "    <tr>\n",
       "      <th>0</th>\n",
       "      <td>3</td>\n",
       "      <td>male</td>\n",
       "      <td>34.5</td>\n",
       "      <td>0</td>\n",
       "      <td>0</td>\n",
       "      <td>7.8292</td>\n",
       "      <td>Q</td>\n",
       "      <td>0</td>\n",
       "    </tr>\n",
       "    <tr>\n",
       "      <th>1</th>\n",
       "      <td>3</td>\n",
       "      <td>female</td>\n",
       "      <td>47.0</td>\n",
       "      <td>1</td>\n",
       "      <td>0</td>\n",
       "      <td>7.0000</td>\n",
       "      <td>S</td>\n",
       "      <td>1</td>\n",
       "    </tr>\n",
       "    <tr>\n",
       "      <th>2</th>\n",
       "      <td>2</td>\n",
       "      <td>male</td>\n",
       "      <td>62.0</td>\n",
       "      <td>0</td>\n",
       "      <td>0</td>\n",
       "      <td>9.6875</td>\n",
       "      <td>Q</td>\n",
       "      <td>0</td>\n",
       "    </tr>\n",
       "    <tr>\n",
       "      <th>3</th>\n",
       "      <td>3</td>\n",
       "      <td>male</td>\n",
       "      <td>27.0</td>\n",
       "      <td>0</td>\n",
       "      <td>0</td>\n",
       "      <td>8.6625</td>\n",
       "      <td>S</td>\n",
       "      <td>0</td>\n",
       "    </tr>\n",
       "    <tr>\n",
       "      <th>4</th>\n",
       "      <td>3</td>\n",
       "      <td>female</td>\n",
       "      <td>22.0</td>\n",
       "      <td>1</td>\n",
       "      <td>1</td>\n",
       "      <td>12.2875</td>\n",
       "      <td>S</td>\n",
       "      <td>1</td>\n",
       "    </tr>\n",
       "  </tbody>\n",
       "</table>\n",
       "</div>"
      ],
      "text/plain": [
       "   Pclass     Sex   Age  SibSp  Parch     Fare Embarked  Survived\n",
       "0       3    male  34.5      0      0   7.8292        Q         0\n",
       "1       3  female  47.0      1      0   7.0000        S         1\n",
       "2       2    male  62.0      0      0   9.6875        Q         0\n",
       "3       3    male  27.0      0      0   8.6625        S         0\n",
       "4       3  female  22.0      1      1  12.2875        S         1"
      ]
     },
     "execution_count": 39,
     "metadata": {},
     "output_type": "execute_result"
    }
   ],
   "source": [
    "df_test = pd.read_csv('./titanic/test_y.csv')\n",
    "df_test = df_test.drop(['Name', 'Ticket', 'PassengerId', 'Cabin'], axis=1)\n",
    "df_test.head()"
   ]
  },
  {
   "cell_type": "code",
   "execution_count": 40,
   "metadata": {},
   "outputs": [
    {
     "data": {
      "text/plain": [
       "Pclass      False\n",
       "Sex         False\n",
       "Age          True\n",
       "SibSp       False\n",
       "Parch       False\n",
       "Fare         True\n",
       "Embarked    False\n",
       "Survived    False\n",
       "dtype: bool"
      ]
     },
     "execution_count": 40,
     "metadata": {},
     "output_type": "execute_result"
    }
   ],
   "source": [
    "df_test.isnull().any()"
   ]
  },
  {
   "cell_type": "code",
   "execution_count": 41,
   "metadata": {},
   "outputs": [],
   "source": [
    "df_test['Age'].fillna(30, inplace=True)\n",
    "df_test['Embarked'].fillna('S', inplace=True) # as most frequent 'Embarked' \n",
    "df_test['Fare'].fillna(train_fare_mean, inplace=True)\n",
    "\n",
    "df_test[features2standartization] = (df_test[features2standartization] - tmp_training_mean) / tmp_training_std"
   ]
  },
  {
   "cell_type": "code",
   "execution_count": 42,
   "metadata": {},
   "outputs": [],
   "source": [
    "df_test = pd.get_dummies(df_test, ['Sex', 'Embarked'])"
   ]
  },
  {
   "cell_type": "code",
   "execution_count": 43,
   "metadata": {},
   "outputs": [],
   "source": [
    "df_test_y = df_test['Survived']\n",
    "df_test_features = df_test.drop('Survived', axis=1)"
   ]
  },
  {
   "cell_type": "code",
   "execution_count": 44,
   "metadata": {},
   "outputs": [
    {
     "data": {
      "text/html": [
       "<div>\n",
       "<style scoped>\n",
       "    .dataframe tbody tr th:only-of-type {\n",
       "        vertical-align: middle;\n",
       "    }\n",
       "\n",
       "    .dataframe tbody tr th {\n",
       "        vertical-align: top;\n",
       "    }\n",
       "\n",
       "    .dataframe thead th {\n",
       "        text-align: right;\n",
       "    }\n",
       "</style>\n",
       "<table border=\"1\" class=\"dataframe\">\n",
       "  <thead>\n",
       "    <tr style=\"text-align: right;\">\n",
       "      <th></th>\n",
       "      <th>Pclass</th>\n",
       "      <th>Age</th>\n",
       "      <th>SibSp</th>\n",
       "      <th>Parch</th>\n",
       "      <th>Fare</th>\n",
       "      <th>Sex_female</th>\n",
       "      <th>Sex_male</th>\n",
       "      <th>Embarked_C</th>\n",
       "      <th>Embarked_Q</th>\n",
       "      <th>Embarked_S</th>\n",
       "    </tr>\n",
       "  </thead>\n",
       "  <tbody>\n",
       "    <tr>\n",
       "      <th>0</th>\n",
       "      <td>3</td>\n",
       "      <td>-0.596720</td>\n",
       "      <td>1</td>\n",
       "      <td>0</td>\n",
       "      <td>-0.502163</td>\n",
       "      <td>0</td>\n",
       "      <td>1</td>\n",
       "      <td>0</td>\n",
       "      <td>0</td>\n",
       "      <td>1</td>\n",
       "    </tr>\n",
       "    <tr>\n",
       "      <th>1</th>\n",
       "      <td>1</td>\n",
       "      <td>0.633806</td>\n",
       "      <td>1</td>\n",
       "      <td>0</td>\n",
       "      <td>0.786404</td>\n",
       "      <td>1</td>\n",
       "      <td>0</td>\n",
       "      <td>1</td>\n",
       "      <td>0</td>\n",
       "      <td>0</td>\n",
       "    </tr>\n",
       "    <tr>\n",
       "      <th>2</th>\n",
       "      <td>3</td>\n",
       "      <td>-0.289088</td>\n",
       "      <td>0</td>\n",
       "      <td>0</td>\n",
       "      <td>-0.488580</td>\n",
       "      <td>1</td>\n",
       "      <td>0</td>\n",
       "      <td>0</td>\n",
       "      <td>0</td>\n",
       "      <td>1</td>\n",
       "    </tr>\n",
       "    <tr>\n",
       "      <th>3</th>\n",
       "      <td>1</td>\n",
       "      <td>0.403083</td>\n",
       "      <td>1</td>\n",
       "      <td>0</td>\n",
       "      <td>0.420494</td>\n",
       "      <td>1</td>\n",
       "      <td>0</td>\n",
       "      <td>0</td>\n",
       "      <td>0</td>\n",
       "      <td>1</td>\n",
       "    </tr>\n",
       "    <tr>\n",
       "      <th>4</th>\n",
       "      <td>3</td>\n",
       "      <td>0.403083</td>\n",
       "      <td>0</td>\n",
       "      <td>0</td>\n",
       "      <td>-0.486064</td>\n",
       "      <td>0</td>\n",
       "      <td>1</td>\n",
       "      <td>0</td>\n",
       "      <td>0</td>\n",
       "      <td>1</td>\n",
       "    </tr>\n",
       "  </tbody>\n",
       "</table>\n",
       "</div>"
      ],
      "text/plain": [
       "   Pclass       Age  SibSp  Parch      Fare  Sex_female  Sex_male  Embarked_C  \\\n",
       "0       3 -0.596720      1      0 -0.502163           0         1           0   \n",
       "1       1  0.633806      1      0  0.786404           1         0           1   \n",
       "2       3 -0.289088      0      0 -0.488580           1         0           0   \n",
       "3       1  0.403083      1      0  0.420494           1         0           0   \n",
       "4       3  0.403083      0      0 -0.486064           0         1           0   \n",
       "\n",
       "   Embarked_Q  Embarked_S  \n",
       "0           0           1  \n",
       "1           0           0  \n",
       "2           0           1  \n",
       "3           0           1  \n",
       "4           0           1  "
      ]
     },
     "execution_count": 44,
     "metadata": {},
     "output_type": "execute_result"
    }
   ],
   "source": [
    "df_features.head()"
   ]
  },
  {
   "cell_type": "code",
   "execution_count": 45,
   "metadata": {},
   "outputs": [
    {
     "data": {
      "text/html": [
       "<div>\n",
       "<style scoped>\n",
       "    .dataframe tbody tr th:only-of-type {\n",
       "        vertical-align: middle;\n",
       "    }\n",
       "\n",
       "    .dataframe tbody tr th {\n",
       "        vertical-align: top;\n",
       "    }\n",
       "\n",
       "    .dataframe thead th {\n",
       "        text-align: right;\n",
       "    }\n",
       "</style>\n",
       "<table border=\"1\" class=\"dataframe\">\n",
       "  <thead>\n",
       "    <tr style=\"text-align: right;\">\n",
       "      <th></th>\n",
       "      <th>Pclass</th>\n",
       "      <th>Age</th>\n",
       "      <th>SibSp</th>\n",
       "      <th>Parch</th>\n",
       "      <th>Fare</th>\n",
       "      <th>Sex_female</th>\n",
       "      <th>Sex_male</th>\n",
       "      <th>Embarked_C</th>\n",
       "      <th>Embarked_Q</th>\n",
       "      <th>Embarked_S</th>\n",
       "    </tr>\n",
       "  </thead>\n",
       "  <tbody>\n",
       "    <tr>\n",
       "      <th>0</th>\n",
       "      <td>3</td>\n",
       "      <td>0.364629</td>\n",
       "      <td>0</td>\n",
       "      <td>0</td>\n",
       "      <td>-0.490508</td>\n",
       "      <td>0</td>\n",
       "      <td>1</td>\n",
       "      <td>0</td>\n",
       "      <td>1</td>\n",
       "      <td>0</td>\n",
       "    </tr>\n",
       "    <tr>\n",
       "      <th>1</th>\n",
       "      <td>3</td>\n",
       "      <td>1.325977</td>\n",
       "      <td>1</td>\n",
       "      <td>0</td>\n",
       "      <td>-0.507194</td>\n",
       "      <td>1</td>\n",
       "      <td>0</td>\n",
       "      <td>0</td>\n",
       "      <td>0</td>\n",
       "      <td>1</td>\n",
       "    </tr>\n",
       "    <tr>\n",
       "      <th>2</th>\n",
       "      <td>2</td>\n",
       "      <td>2.479595</td>\n",
       "      <td>0</td>\n",
       "      <td>0</td>\n",
       "      <td>-0.453112</td>\n",
       "      <td>0</td>\n",
       "      <td>1</td>\n",
       "      <td>0</td>\n",
       "      <td>1</td>\n",
       "      <td>0</td>\n",
       "    </tr>\n",
       "    <tr>\n",
       "      <th>3</th>\n",
       "      <td>3</td>\n",
       "      <td>-0.212180</td>\n",
       "      <td>0</td>\n",
       "      <td>0</td>\n",
       "      <td>-0.473739</td>\n",
       "      <td>0</td>\n",
       "      <td>1</td>\n",
       "      <td>0</td>\n",
       "      <td>0</td>\n",
       "      <td>1</td>\n",
       "    </tr>\n",
       "    <tr>\n",
       "      <th>4</th>\n",
       "      <td>3</td>\n",
       "      <td>-0.596720</td>\n",
       "      <td>1</td>\n",
       "      <td>1</td>\n",
       "      <td>-0.400792</td>\n",
       "      <td>1</td>\n",
       "      <td>0</td>\n",
       "      <td>0</td>\n",
       "      <td>0</td>\n",
       "      <td>1</td>\n",
       "    </tr>\n",
       "  </tbody>\n",
       "</table>\n",
       "</div>"
      ],
      "text/plain": [
       "   Pclass       Age  SibSp  Parch      Fare  Sex_female  Sex_male  Embarked_C  \\\n",
       "0       3  0.364629      0      0 -0.490508           0         1           0   \n",
       "1       3  1.325977      1      0 -0.507194           1         0           0   \n",
       "2       2  2.479595      0      0 -0.453112           0         1           0   \n",
       "3       3 -0.212180      0      0 -0.473739           0         1           0   \n",
       "4       3 -0.596720      1      1 -0.400792           1         0           0   \n",
       "\n",
       "   Embarked_Q  Embarked_S  \n",
       "0           1           0  \n",
       "1           0           1  \n",
       "2           1           0  \n",
       "3           0           1  \n",
       "4           0           1  "
      ]
     },
     "execution_count": 45,
     "metadata": {},
     "output_type": "execute_result"
    }
   ],
   "source": [
    "df_test_features.head()"
   ]
  },
  {
   "cell_type": "code",
   "execution_count": 46,
   "metadata": {},
   "outputs": [
    {
     "data": {
      "text/html": [
       "<div>\n",
       "<style scoped>\n",
       "    .dataframe tbody tr th:only-of-type {\n",
       "        vertical-align: middle;\n",
       "    }\n",
       "\n",
       "    .dataframe tbody tr th {\n",
       "        vertical-align: top;\n",
       "    }\n",
       "\n",
       "    .dataframe thead th {\n",
       "        text-align: right;\n",
       "    }\n",
       "</style>\n",
       "<table border=\"1\" class=\"dataframe\">\n",
       "  <thead>\n",
       "    <tr style=\"text-align: right;\">\n",
       "      <th></th>\n",
       "      <th>Pclass</th>\n",
       "      <th>Age</th>\n",
       "      <th>SibSp</th>\n",
       "      <th>Parch</th>\n",
       "      <th>Fare</th>\n",
       "      <th>Sex_female</th>\n",
       "      <th>Sex_male</th>\n",
       "      <th>Embarked_C</th>\n",
       "      <th>Embarked_Q</th>\n",
       "      <th>Embarked_S</th>\n",
       "    </tr>\n",
       "  </thead>\n",
       "  <tbody>\n",
       "    <tr>\n",
       "      <th>count</th>\n",
       "      <td>473.000000</td>\n",
       "      <td>473.000000</td>\n",
       "      <td>473.000000</td>\n",
       "      <td>473.000000</td>\n",
       "      <td>473.000000</td>\n",
       "      <td>473.000000</td>\n",
       "      <td>473.000000</td>\n",
       "      <td>473.000000</td>\n",
       "      <td>473.000000</td>\n",
       "      <td>473.000000</td>\n",
       "    </tr>\n",
       "    <tr>\n",
       "      <th>mean</th>\n",
       "      <td>0.043092</td>\n",
       "      <td>-0.035194</td>\n",
       "      <td>0.075639</td>\n",
       "      <td>-0.010751</td>\n",
       "      <td>-0.068717</td>\n",
       "      <td>-0.011223</td>\n",
       "      <td>0.011223</td>\n",
       "      <td>-0.055467</td>\n",
       "      <td>-0.023628</td>\n",
       "      <td>0.079095</td>\n",
       "    </tr>\n",
       "    <tr>\n",
       "      <th>std</th>\n",
       "      <td>-0.005766</td>\n",
       "      <td>0.028268</td>\n",
       "      <td>0.205984</td>\n",
       "      <td>-0.175372</td>\n",
       "      <td>-0.123705</td>\n",
       "      <td>-0.003632</td>\n",
       "      <td>-0.003632</td>\n",
       "      <td>-0.038647</td>\n",
       "      <td>-0.032184</td>\n",
       "      <td>-0.032052</td>\n",
       "    </tr>\n",
       "    <tr>\n",
       "      <th>min</th>\n",
       "      <td>0.000000</td>\n",
       "      <td>0.019227</td>\n",
       "      <td>0.000000</td>\n",
       "      <td>0.000000</td>\n",
       "      <td>0.000000</td>\n",
       "      <td>0.000000</td>\n",
       "      <td>0.000000</td>\n",
       "      <td>0.000000</td>\n",
       "      <td>0.000000</td>\n",
       "      <td>0.000000</td>\n",
       "    </tr>\n",
       "    <tr>\n",
       "      <th>25%</th>\n",
       "      <td>1.000000</td>\n",
       "      <td>-0.076908</td>\n",
       "      <td>0.000000</td>\n",
       "      <td>0.000000</td>\n",
       "      <td>0.000294</td>\n",
       "      <td>0.000000</td>\n",
       "      <td>0.000000</td>\n",
       "      <td>0.000000</td>\n",
       "      <td>0.000000</td>\n",
       "      <td>0.000000</td>\n",
       "    </tr>\n",
       "    <tr>\n",
       "      <th>50%</th>\n",
       "      <td>0.000000</td>\n",
       "      <td>0.000000</td>\n",
       "      <td>0.000000</td>\n",
       "      <td>0.000000</td>\n",
       "      <td>0.000000</td>\n",
       "      <td>0.000000</td>\n",
       "      <td>0.000000</td>\n",
       "      <td>0.000000</td>\n",
       "      <td>0.000000</td>\n",
       "      <td>0.000000</td>\n",
       "    </tr>\n",
       "    <tr>\n",
       "      <th>75%</th>\n",
       "      <td>0.000000</td>\n",
       "      <td>-0.057681</td>\n",
       "      <td>0.000000</td>\n",
       "      <td>0.000000</td>\n",
       "      <td>-0.010062</td>\n",
       "      <td>0.000000</td>\n",
       "      <td>0.000000</td>\n",
       "      <td>0.000000</td>\n",
       "      <td>0.000000</td>\n",
       "      <td>0.000000</td>\n",
       "    </tr>\n",
       "    <tr>\n",
       "      <th>max</th>\n",
       "      <td>0.000000</td>\n",
       "      <td>0.307631</td>\n",
       "      <td>0.000000</td>\n",
       "      <td>-3.000000</td>\n",
       "      <td>0.000000</td>\n",
       "      <td>0.000000</td>\n",
       "      <td>0.000000</td>\n",
       "      <td>0.000000</td>\n",
       "      <td>0.000000</td>\n",
       "      <td>0.000000</td>\n",
       "    </tr>\n",
       "  </tbody>\n",
       "</table>\n",
       "</div>"
      ],
      "text/plain": [
       "           Pclass         Age       SibSp       Parch        Fare  Sex_female  \\\n",
       "count  473.000000  473.000000  473.000000  473.000000  473.000000  473.000000   \n",
       "mean     0.043092   -0.035194    0.075639   -0.010751   -0.068717   -0.011223   \n",
       "std     -0.005766    0.028268    0.205984   -0.175372   -0.123705   -0.003632   \n",
       "min      0.000000    0.019227    0.000000    0.000000    0.000000    0.000000   \n",
       "25%      1.000000   -0.076908    0.000000    0.000000    0.000294    0.000000   \n",
       "50%      0.000000    0.000000    0.000000    0.000000    0.000000    0.000000   \n",
       "75%      0.000000   -0.057681    0.000000    0.000000   -0.010062    0.000000   \n",
       "max      0.000000    0.307631    0.000000   -3.000000    0.000000    0.000000   \n",
       "\n",
       "         Sex_male  Embarked_C  Embarked_Q  Embarked_S  \n",
       "count  473.000000  473.000000  473.000000  473.000000  \n",
       "mean     0.011223   -0.055467   -0.023628    0.079095  \n",
       "std     -0.003632   -0.038647   -0.032184   -0.032052  \n",
       "min      0.000000    0.000000    0.000000    0.000000  \n",
       "25%      0.000000    0.000000    0.000000    0.000000  \n",
       "50%      0.000000    0.000000    0.000000    0.000000  \n",
       "75%      0.000000    0.000000    0.000000    0.000000  \n",
       "max      0.000000    0.000000    0.000000    0.000000  "
      ]
     },
     "execution_count": 46,
     "metadata": {},
     "output_type": "execute_result"
    }
   ],
   "source": [
    "df_features.describe() - df_test_features.describe()"
   ]
  },
  {
   "cell_type": "code",
   "execution_count": 47,
   "metadata": {},
   "outputs": [
    {
     "data": {
      "text/plain": [
       "((418, 10), (418,))"
      ]
     },
     "execution_count": 47,
     "metadata": {},
     "output_type": "execute_result"
    }
   ],
   "source": [
    "X_test = df_test_features.values\n",
    "Y_test = df_test_y.values\n",
    "\n",
    "X_test.shape, Y_test.shape"
   ]
  },
  {
   "cell_type": "code",
   "execution_count": 142,
   "metadata": {},
   "outputs": [
    {
     "data": {
      "text/plain": [
       "0.7751196172248804"
      ]
     },
     "execution_count": 142,
     "metadata": {},
     "output_type": "execute_result"
    }
   ],
   "source": [
    "Y_pred = catboost.predict(df_test_features)\n",
    "get_acc(Y_pred, df_test_y)"
   ]
  },
  {
   "cell_type": "code",
   "execution_count": 140,
   "metadata": {
    "scrolled": true
   },
   "outputs": [
    {
     "data": {
      "text/plain": [
       "0.7464114832535885"
      ]
     },
     "execution_count": 140,
     "metadata": {},
     "output_type": "execute_result"
    }
   ],
   "source": [
    "Y_pred = random_forest.predict(df_test_features)\n",
    "get_acc(Y_pred, df_test_y)"
   ]
  },
  {
   "cell_type": "code",
   "execution_count": 50,
   "metadata": {},
   "outputs": [
    {
     "data": {
      "text/plain": [
       "(torch.Size([418, 10]), torch.Size([418]))"
      ]
     },
     "execution_count": 50,
     "metadata": {},
     "output_type": "execute_result"
    }
   ],
   "source": [
    "X_test = torch.Tensor(df_test_features.values)\n",
    "Y_test = torch.Tensor(df_test_y.values)\n",
    "\n",
    "X_test.shape, Y_test.shape"
   ]
  },
  {
   "cell_type": "code",
   "execution_count": 51,
   "metadata": {},
   "outputs": [
    {
     "data": {
      "text/plain": [
       "torch.Size([418])"
      ]
     },
     "execution_count": 51,
     "metadata": {},
     "output_type": "execute_result"
    }
   ],
   "source": [
    "pred = model(X_test)\n",
    "pred = torch.sigmoid(pred)\n",
    "pred.shape"
   ]
  },
  {
   "cell_type": "code",
   "execution_count": 52,
   "metadata": {},
   "outputs": [
    {
     "data": {
      "text/plain": [
       "0.7607655502392344"
      ]
     },
     "execution_count": 52,
     "metadata": {},
     "output_type": "execute_result"
    }
   ],
   "source": [
    "get_acc(pred, Y_test)"
   ]
  },
  {
   "cell_type": "markdown",
   "metadata": {},
   "source": [
    "### ROC AUC analysis"
   ]
  },
  {
   "cell_type": "code",
   "execution_count": 215,
   "metadata": {},
   "outputs": [
    {
     "data": {
      "text/plain": [
       "array([0.   , 0.025, 0.05 , 0.075, 0.1  , 0.125, 0.15 , 0.175, 0.2  ,\n",
       "       0.225, 0.25 , 0.275, 0.3  , 0.325, 0.35 , 0.375, 0.4  , 0.425,\n",
       "       0.45 , 0.475, 0.5  , 0.525, 0.55 , 0.575, 0.6  , 0.625, 0.65 ,\n",
       "       0.675, 0.7  , 0.725, 0.75 , 0.775, 0.8  , 0.825, 0.85 , 0.875,\n",
       "       0.9  , 0.925, 0.95 , 0.975, 1.   ])"
      ]
     },
     "execution_count": 215,
     "metadata": {},
     "output_type": "execute_result"
    }
   ],
   "source": [
    "thresholds = np.arange(0, 1.025, 0.025)\n",
    "thresholds"
   ]
  },
  {
   "cell_type": "code",
   "execution_count": 216,
   "metadata": {},
   "outputs": [],
   "source": [
    "def get_conf_matrix_el(pred, gt, th=0.5):\n",
    "\n",
    "    TP = np.sum((pred > th) & (gt == 1))\n",
    "    FP = np.sum((pred > th) & (gt == 0))\n",
    "\n",
    "    TN = np.sum((pred <= th) * (gt == 0))\n",
    "    FN = np.sum((pred <= th) * (gt == 1))\n",
    "\n",
    "    return TP, FP, TN, FN"
   ]
  },
  {
   "cell_type": "code",
   "execution_count": 217,
   "metadata": {},
   "outputs": [],
   "source": [
    "import sys\n",
    "\n",
    "def get_roc_auc(pred, gt):\n",
    "    tp_list, fn_list, tn_list, fn_list = [], [], [], []\n",
    "    prec_list, rec_list, f1_list = [], [], []\n",
    "    tpr_list, fpr_list = [], []\n",
    "\n",
    "    for th in thresholds:\n",
    "        tp, fp, tn, fn = get_conf_matrix_el(pred, gt, th)\n",
    "\n",
    "        tpr = tp / (tp + fn)\n",
    "        fpr = fp / (fp + tn)\n",
    "        \n",
    "        prec = tp / (tp + fp + sys.float_info.epsilon)\n",
    "        rec = tp / (tp + fn + sys.float_info.epsilon)\n",
    "        F1 = 2 * (prec * rec) / (prec + rec + sys.float_info.epsilon)\n",
    "        \n",
    "        prec_list.append(prec)\n",
    "        rec_list.append(rec)\n",
    "        f1_list.append(F1)\n",
    "\n",
    "        tp_list.append(tp)\n",
    "        fn_list.append(fn)\n",
    "        tn_list.append(tn)\n",
    "        fn_list.append(fn)\n",
    "\n",
    "        tpr_list.append(tpr)\n",
    "        fpr_list.append(fpr)\n",
    "        \n",
    "    return tpr_list, fpr_list, prec_list, rec_list, f1_list #, tp_list, fn_list, tn_list, fn_list"
   ]
  },
  {
   "cell_type": "code",
   "execution_count": 218,
   "metadata": {},
   "outputs": [],
   "source": [
    "tpr_list, fpr_list, prec_list, rec_list, f1_list = get_roc_auc(pred.detach().numpy(), Y_test.detach().numpy())"
   ]
  },
  {
   "cell_type": "code",
   "execution_count": 219,
   "metadata": {},
   "outputs": [],
   "source": [
    "rnd_tpr_list, rnd_fpr_list, rnd_prec_list, rnd_rec_list, rnd_f1_list = get_roc_auc(np.random.rand(len(pred)), Y_test.detach().numpy())"
   ]
  },
  {
   "cell_type": "code",
   "execution_count": 228,
   "metadata": {},
   "outputs": [],
   "source": [
    "cb_tpr_list, cb_fpr_list, cb_prec_list, cb_rec_list, cb_f1_list = get_roc_auc(np.array(Y_pred), np.array(df_test_y))"
   ]
  },
  {
   "cell_type": "code",
   "execution_count": 229,
   "metadata": {},
   "outputs": [
    {
     "data": {
      "image/png": "[encoded data removed]",
      "text/plain": [
       "<Figure size 640x480 with 1 Axes>"
      ]
     },
     "metadata": {},
     "output_type": "display_data"
    }
   ],
   "source": [
    "plt.plot(thresholds, prec_list, label='prec', color='r')\n",
    "plt.plot(thresholds, rec_list, label='prec', color='g')\n",
    "plt.plot(thresholds, f1_list, label='f1', color='b')\n",
    "\n",
    "plt.plot(thresholds, rnd_prec_list, 'r--', label='prec')\n",
    "plt.plot(thresholds, rnd_rec_list, 'g--', label='prec')\n",
    "plt.plot(thresholds, rnd_f1_list, 'b--', label='f1')\n",
    "\n",
    "plt.grid(True)\n",
    "plt.legend()\n",
    "plt.show()"
   ]
  },
  {
   "cell_type": "code",
   "execution_count": 231,
   "metadata": {},
   "outputs": [
    {
     "data": {
      "image/png": "[encoded data removed]",
      "text/plain": [
       "<Figure size 640x480 with 1 Axes>"
      ]
     },
     "metadata": {},
     "output_type": "display_data"
    }
   ],
   "source": [
    "plt.plot(thresholds, cb_prec_list, 'r--', label='prec')\n",
    "plt.plot(thresholds, cb_rec_list, 'g--', label='prec')\n",
    "plt.plot(thresholds, cb_f1_list, 'b--', label='f1')\n",
    "\n",
    "plt.plot(thresholds, prec_list, label='prec', color='r')\n",
    "plt.plot(thresholds, rec_list, label='prec', color='g')\n",
    "plt.plot(thresholds, f1_list, label='f1', color='b')\n",
    "\n",
    "plt.grid(True)\n",
    "plt.legend()\n",
    "plt.show()"
   ]
  },
  {
   "cell_type": "code",
   "execution_count": 232,
   "metadata": {},
   "outputs": [
    {
     "data": {
      "text/plain": [
       "0.37799043062200954"
      ]
     },
     "execution_count": 232,
     "metadata": {},
     "output_type": "execute_result"
    }
   ],
   "source": [
    "positive_rate = np.sum(Y_test.detach().numpy()) / len( Y_test.detach().numpy())\n",
    "positive_rate"
   ]
  },
  {
   "cell_type": "code",
   "execution_count": 234,
   "metadata": {},
   "outputs": [
    {
     "data": {
      "image/png": "[encoded data removed]",
      "text/plain": [
       "<Figure size 640x480 with 1 Axes>"
      ]
     },
     "metadata": {},
     "output_type": "display_data"
    }
   ],
   "source": [
    "plt.plot(rec_list, prec_list, label='MLP PR curve')\n",
    "plt.plot(rnd_rec_list, rnd_prec_list, label='rnd PR curve')\n",
    "plt.plot(cb_rec_list, cb_prec_list, label='catboost PR curve')\n",
    "\n",
    "plt.grid(True)\n",
    "plt.legend()\n",
    "plt.show()"
   ]
  },
  {
   "cell_type": "code",
   "execution_count": 238,
   "metadata": {},
   "outputs": [
    {
     "data": {
      "text/plain": [
       "(0.8078870496592016, 0.4814873417721519, 0.7429284323271665)"
      ]
     },
     "execution_count": 238,
     "metadata": {},
     "output_type": "execute_result"
    }
   ],
   "source": [
    "from sklearn.metrics import auc\n",
    "\n",
    "mlp_fpr_list, mlp_tpr_list = zip(*sorted(zip(fpr_list, tpr_list)))\n",
    "rnd_fpr_list, rnd_tpr_list = zip(*sorted(zip(rnd_fpr_list, rnd_tpr_list)))\n",
    "cb_fpr_list, cb_tpr_list = zip(*sorted(zip(cb_fpr_list, cb_tpr_list)))\n",
    "\n",
    "mlp_auc = auc(mlp_fpr_list, mlp_tpr_list)\n",
    "rnd_auc = auc(rnd_fpr_list, rnd_tpr_list)\n",
    "cb_auc = auc(cb_fpr_list, cb_tpr_list)\n",
    "\n",
    "mlp_auc, rnd_auc, cb_auc"
   ]
  },
  {
   "cell_type": "code",
   "execution_count": 239,
   "metadata": {},
   "outputs": [
    {
     "data": {
      "image/png": "[encoded data removed]",
      "text/plain": [
       "<Figure size 640x480 with 1 Axes>"
      ]
     },
     "metadata": {},
     "output_type": "display_data"
    }
   ],
   "source": [
    "import matplotlib.pyplot as plt\n",
    "\n",
    "plt.plot(cb_fpr_list, cb_tpr_list, marker='o', label='ROC curve', color='r')\n",
    "plt.plot(rnd_fpr_list, rnd_tpr_list, marker='o', label='ROC curve', color='g')\n",
    "plt.plot(mlp_fpr_list, mlp_tpr_list, marker='o', label='ROC curve', color='b')\n",
    "plt.plot([0, 1], [0, 1], 'k--')\n",
    "plt.xlabel('FPR')\n",
    "plt.ylabel('TPR')\n",
    "plt.title('ROC curve')\n",
    "plt.grid(True)\n",
    "plt.show()"
   ]
  },
  {
   "cell_type": "code",
   "execution_count": 100,
   "metadata": {},
   "outputs": [],
   "source": []
  },
  {
   "cell_type": "code",
   "execution_count": null,
   "metadata": {},
   "outputs": [],
   "source": []
  }
 ],
 "metadata": {
  "kernelspec": {
   "display_name": "default",
   "language": "python",
   "name": "default"
  },
  "language_info": {
   "codemirror_mode": {
    "name": "ipython",
    "version": 3
   },
   "file_extension": ".py",
   "mimetype": "text/x-python",
   "name": "python",
   "nbconvert_exporter": "python",
   "pygments_lexer": "ipython3",
   "version": "3.10.16"
  }
 },
 "nbformat": 4,
 "nbformat_minor": 4
}
